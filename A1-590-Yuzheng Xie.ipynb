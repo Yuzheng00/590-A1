{
 "cells": [
  {
   "cell_type": "markdown",
   "metadata": {},
   "source": [
    "# 1\n",
    "Regularization. Using the accompanying Hitters dataset, we will explore\n",
    "regression models to predict a player’s Salary from other variables. You must\n",
    "python.\n",
    "https://gist.github.com/keeganhines/59974f1ebef97bbaa44fb19143f90bad\n",
    "\n",
    "# 1.1\n",
    "Use LASSO regression to predict Salary from the other numeric predictors.\n",
    "Create a visualization of the coefficient trajectories. Comment on which are the\n",
    "final three predictors that remain in the model. Use cross-validation to find the\n",
    "optimal value of the regularization penality. How many predictors are left in\n",
    "that model?"
   ]
  },
  {
   "cell_type": "code",
   "execution_count": 1,
   "metadata": {},
   "outputs": [],
   "source": [
    "import pandas as pd\n",
    "from sklearn import linear_model\n",
    "import numpy as np"
   ]
  },
  {
   "cell_type": "code",
   "execution_count": 2,
   "metadata": {},
   "outputs": [],
   "source": [
    "df=pd.read_csv(\"Hitters.csv\",index_col=0)\n",
    "df=df.drop(columns=['League','Division','NewLeague'])\n",
    "df=df.dropna()\n",
    "target=df['Salary']\n",
    "data=df.drop(['Salary'],axis=1)"
   ]
  },
  {
   "cell_type": "code",
   "execution_count": 3,
   "metadata": {},
   "outputs": [],
   "source": [
    "from sklearn.linear_model import LassoCV\n",
    "from sklearn.linear_model import Lasso\n",
    "import matplotlib.pyplot as plt "
   ]
  },
  {
   "cell_type": "code",
   "execution_count": 16,
   "metadata": {},
   "outputs": [],
   "source": [
    "n=100\n",
    "alphas = 10**np.linspace(-2,10,n)"
   ]
  },
  {
   "cell_type": "code",
   "execution_count": 20,
   "metadata": {},
   "outputs": [],
   "source": [
    "coefs = []\n",
    "for i in alphas:\n",
    "    lasso=Lasso(alpha = i,max_iter = 5000, normalize = True)\n",
    "    lasso.fit(data, target)\n",
    "    coefs.append(lasso.coef_)"
   ]
  },
  {
   "cell_type": "code",
   "execution_count": 25,
   "metadata": {},
   "outputs": [
    {
     "data": {
      "text/plain": [
       "Text(0.5, 1.0, 'Coefficients Trajectory')"
      ]
     },
     "execution_count": 25,
     "metadata": {},
     "output_type": "execute_result"
    },
    {
     "data": {
      "image/png": "[encoded data removed]",
      "text/plain": [
       "<Figure size 432x288 with 1 Axes>"
      ]
     },
     "metadata": {
      "needs_background": "light"
     },
     "output_type": "display_data"
    }
   ],
   "source": [
    "fig = plt.gca()\n",
    "fig.plot(alphas, coefs)\n",
    "fig.set_xscale('log')\n",
    "plt.xlabel('Alpha')\n",
    "plt.ylabel('Coefficients')\n",
    "plt.title('Coefficients Trajectory')"
   ]
  },
  {
   "cell_type": "markdown",
   "metadata": {},
   "source": [
    "From the plot above ,se can see that we can choose alpha equal to 10."
   ]
  },
  {
   "cell_type": "code",
   "execution_count": 36,
   "metadata": {},
   "outputs": [
    {
     "data": {
      "text/plain": [
       "AtBat      0.000000\n",
       "Hits       0.329475\n",
       "HmRun      0.000000\n",
       "Runs       0.000000\n",
       "RBI        0.000000\n",
       "Walks      0.000000\n",
       "Years      0.000000\n",
       "CAtBat     0.000000\n",
       "CHits      0.000000\n",
       "CHmRun     0.000000\n",
       "CRuns      0.076322\n",
       "CRBI       0.204475\n",
       "CWalks     0.000000\n",
       "PutOuts    0.000000\n",
       "Assists    0.000000\n",
       "Errors     0.000000\n",
       "dtype: float64"
      ]
     },
     "execution_count": 36,
     "metadata": {},
     "output_type": "execute_result"
    }
   ],
   "source": [
    "Lassomodel = Lasso(alpha = 10, max_iter = 5000, normalize = True).fit(data,target)\n",
    "coef2 = pd.Series(Lassomodel .coef_, index=data.columns)\n",
    "coef2"
   ]
  },
  {
   "cell_type": "markdown",
   "metadata": {},
   "source": [
    "The final three predictors are 'Hits', 'CRuns', 'CRBI'."
   ]
  },
  {
   "cell_type": "code",
   "execution_count": 38,
   "metadata": {},
   "outputs": [
    {
     "name": "stdout",
     "output_type": "stream",
     "text": [
      "The optimal value of the regularization penality is 0.13691039485958048\n"
     ]
    }
   ],
   "source": [
    "lassocv = LassoCV(cv=5, max_iter = 5000,normalize = True)\n",
    "lassocv.fit(data, target)\n",
    "alphaopt = lassocv.alpha_\n",
    "print(\"The optimal value of the regularization penality is\", alphaopt)"
   ]
  },
  {
   "cell_type": "code",
   "execution_count": 39,
   "metadata": {},
   "outputs": [],
   "source": [
    "n = np.sum(lassocv.coef_ != 0)\n"
   ]
  },
  {
   "cell_type": "code",
   "execution_count": 40,
   "metadata": {},
   "outputs": [
    {
     "name": "stdout",
     "output_type": "stream",
     "text": [
      "AtBat     -1.895082\n",
      "Hits       6.455555\n",
      "HmRun     -0.000000\n",
      "Runs      -0.000000\n",
      "RBI        0.349806\n",
      "Walks      5.053509\n",
      "Years     -9.587424\n",
      "CAtBat    -0.008710\n",
      "CHits      0.000000\n",
      "CHmRun     0.557524\n",
      "CRuns      0.789045\n",
      "CRBI       0.337133\n",
      "CWalks    -0.564136\n",
      "PutOuts    0.285458\n",
      "Assists    0.225658\n",
      "Errors    -2.039256\n",
      "dtype: float64\n",
      "The number of predictors is 13\n"
     ]
    }
   ],
   "source": [
    "Lassomodel2 = Lasso(alpha=alphaopt, max_iter = 4000, normalize = True).fit(data, target)\n",
    "print(pd.Series(Lassomodel2.coef_, index=data.columns))\n",
    "n = np.sum(Lassomodel2.coef_ != 0)\n",
    "print('The number of predictors is',n )"
   ]
  },
  {
   "cell_type": "markdown",
   "metadata": {},
   "source": [
    "# 1.2\n",
    "Repeat with Ridge Regression. Visualize coeffecient trajectories. Use cross\u0002validation to find the optimal vaule of the regularization penalty."
   ]
  },
  {
   "cell_type": "code",
   "execution_count": 44,
   "metadata": {},
   "outputs": [],
   "source": [
    "from sklearn.linear_model import Ridge,RidgeCV"
   ]
  },
  {
   "cell_type": "code",
   "execution_count": 51,
   "metadata": {},
   "outputs": [],
   "source": [
    "coefs = []\n",
    "for j in alphas:\n",
    "    ridge=Ridge(alpha = j,normalize=True)\n",
    "    ridge.fit(data, target)\n",
    "    coefs.append(ridge.coef_)"
   ]
  },
  {
   "cell_type": "code",
   "execution_count": 52,
   "metadata": {},
   "outputs": [
    {
     "data": {
      "text/plain": [
       "Text(0.5, 1.0, 'Ridge Coefficients Trajectory')"
      ]
     },
     "execution_count": 52,
     "metadata": {},
     "output_type": "execute_result"
    },
    {
     "data": {
      "image/png": "[encoded data removed]",
      "text/plain": [
       "<Figure size 432x288 with 1 Axes>"
      ]
     },
     "metadata": {
      "needs_background": "light"
     },
     "output_type": "display_data"
    }
   ],
   "source": [
    "figR = plt.gca()\n",
    "figR.plot(alphas, coefs)\n",
    "figR.set_xscale('log')\n",
    "plt.xlabel('Alpha')\n",
    "plt.ylabel('Coefficients')\n",
    "plt.title('Ridge Coefficients Trajectory')"
   ]
  },
  {
   "cell_type": "code",
   "execution_count": 50,
   "metadata": {},
   "outputs": [
    {
     "name": "stdout",
     "output_type": "stream",
     "text": [
      "The optimal value of the regularization penality is 0.01\n"
     ]
    }
   ],
   "source": [
    "ridgecv = RidgeCV(alphas = alphas, scoring = 'neg_mean_squared_error', normalize = True)\n",
    "ridgecv.fit(data,target)\n",
    "print(\"The optimal value of the regularization penality is\", ridgecv.alpha_)"
   ]
  },
  {
   "cell_type": "markdown",
   "metadata": {},
   "source": [
    "Short Answer. Explain in your own words the bias-variance tradeoff. What\n",
    "role does regularization play in this tradeoff? Make reference to your findings\n",
    "in number (1) to describe models of high/low bias and variance."
   ]
  },
  {
   "cell_type": "markdown",
   "metadata": {},
   "source": [
    "Bias-variance tradeoff means models with a lower bias in parameter estimation have a higher variance of the parameter estimates."
   ]
  },
  {
   "cell_type": "markdown",
   "metadata": {},
   "source": [
    "When the bias is very low and variance is very high, the model on test set could be overfitting. Regularization is a way to avoid overfitting because it could set the coefficient of some predictors close to zero or equal to zero. When the number of predictors decreases, bias will increase and variance will decrease. So the regression could avoid overfitting."
   ]
  },
  {
   "cell_type": "markdown",
   "metadata": {},
   "source": [
    "For the model above, we can see that when we increase the value of alpha, cofficients of predictors become closer to zero. So the bias will increase and variance will decrease. If the alpha decrease, the cofficients will increase, and bias will decrease at the same time of variance increasing. "
   ]
  },
  {
   "cell_type": "code",
   "execution_count": null,
   "metadata": {},
   "outputs": [],
   "source": []
  },
  {
   "cell_type": "code",
   "execution_count": null,
   "metadata": {},
   "outputs": [],
   "source": []
  },
  {
   "cell_type": "code",
   "execution_count": null,
   "metadata": {},
   "outputs": [],
   "source": []
  }
 ],
 "metadata": {
  "kernelspec": {
   "display_name": "Python 3",
   "language": "python",
   "name": "python3"
  },
  "language_info": {
   "codemirror_mode": {
    "name": "ipython",
    "version": 3
   },
   "file_extension": ".py",
   "mimetype": "text/x-python",
   "name": "python",
   "nbconvert_exporter": "python",
   "pygments_lexer": "ipython3",
   "version": "3.7.3"
  }
 },
 "nbformat": 4,
 "nbformat_minor": 2
}
